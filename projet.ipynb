{
 "cells": [
  {
   "cell_type": "code",
   "execution_count": 6,
   "metadata": {
    "collapsed": true
   },
   "outputs": [],
   "source": [
    "import numpy as np"
   ]
  },
  {
   "cell_type": "code",
   "execution_count": 7,
   "metadata": {
    "collapsed": true
   },
   "outputs": [],
   "source": [
    "def unpickle(file):\n",
    "    import cPickle\n",
    "    fo = open(file, 'rb')\n",
    "    dict = cPickle.load(fo)\n",
    "    fo.close()\n",
    "    return dict"
   ]
  },
  {
   "cell_type": "code",
   "execution_count": 20,
   "metadata": {
    "collapsed": false
   },
   "outputs": [
    {
     "name": "stdout",
     "output_type": "stream",
     "text": [
      "10000\n",
      "10000\n",
      "['airplane', 'automobile', 'bird', 'cat', 'deer', 'dog', 'frog', 'horse', 'ship', 'truck']\n"
     ]
    }
   ],
   "source": [
    "label_names = unpickle('cifar-10-batches-py/batches.meta')\n",
    "data = unpickle('cifar-10-batches-py/data_batch_1')\n",
    "test = unpickle('cifar-10-batches-py/test_batch')\n",
    "\n",
    "label_names = label_names['label_names']\n",
    "images = data['data']\n",
    "labels = data['labels']\n",
    "\n",
    "im_test = test['data']\n",
    "la_test = test['labels']\n",
    "\n",
    "print len(images)\n",
    "print len(labels)\n",
    "print (label_names)"
   ]
  },
  {
   "cell_type": "markdown",
   "metadata": {},
   "source": [
    "# Methode naïve ( moyenne / pixel)"
   ]
  },
  {
   "cell_type": "code",
   "execution_count": 56,
   "metadata": {
    "collapsed": false
   },
   "outputs": [],
   "source": [
    "class_img = np.zeros([10,3072])\n",
    "cpt_class = np.zeros([10])\n",
    "for i, im in enumerate(images):\n",
    "    c = labels[i]\n",
    "    cpt_class[c] += 1\n",
    "    for j, p in enumerate(im):\n",
    "        class_img[c][j] += p\n",
    "        \n",
    "'''for c in range(10):\n",
    "    for i, v in enumerate(class_img[c]):\n",
    "        class_img[c][i] = v/cpt_class[c]'''\n",
    "\n",
    "for c in range(10):\n",
    "    class_img[c] = [i/cpt_class[c] for i in class_img[c]]"
   ]
  },
  {
   "cell_type": "code",
   "execution_count": 88,
   "metadata": {
    "collapsed": false
   },
   "outputs": [],
   "source": [
    "# compteur pour voir quelles sont les classes \n",
    "# reconnues le plus facilement par cette méthode\n",
    "cpt_par_class = np.zeros([10,2]) \n",
    "\n",
    "err = 0.\n",
    "succ = 0.\n",
    "\n",
    "for i, im in enumerate(im_test):\n",
    "    d = np.zeros([10])\n",
    "    indMin = 0\n",
    "    mini = 10000\n",
    "    for j in range(10):\n",
    "        d[j] = np.linalg.norm(im_test[i] - class_img[j])\n",
    "    for k, el in enumerate(d):\n",
    "        if mini > el:\n",
    "            mini = el\n",
    "            indMin = k\n",
    "    if indMin == la_test[i]:\n",
    "        succ +=1\n",
    "        cpt_par_class[la_test[i]][0] += 1\n",
    "    else:\n",
    "        err += 1\n",
    "        cpt_par_class[la_test[i]][1] += 1"
   ]
  },
  {
   "cell_type": "code",
   "execution_count": 91,
   "metadata": {
    "collapsed": false
   },
   "outputs": [
    {
     "name": "stdout",
     "output_type": "stream",
     "text": [
      "succes :  0.277 %,  erreur :  0.723 %\n"
     ]
    }
   ],
   "source": [
    "print 'succes : ', (succ)/10000, '%, ', 'erreur : ', (err)/10000, '%'"
   ]
  },
  {
   "cell_type": "code",
   "execution_count": 101,
   "metadata": {
    "collapsed": false
   },
   "outputs": [
    {
     "name": "stdout",
     "output_type": "stream",
     "text": [
      "taux de réussite par classes :\n",
      "\n",
      "airplane  :  53.6 %\n",
      "automobile  :  19.5 %\n",
      "bird  :  10.8 %\n",
      "cat  :  5.0 %\n",
      "deer  :  10.9 %\n",
      "dog  :  28.8 %\n",
      "frog  :  53.9 %\n",
      "horse  :  17.9 %\n",
      "ship  :  36.0 %\n",
      "truck  :  40.6 %\n"
     ]
    }
   ],
   "source": [
    "print 'taux de réussite par classes :\\n'\n",
    "for i, l in enumerate(label_names):\n",
    "    print l, ' : ', cpt_par_class[i][0]/cpt_par_class[i].sum()*100,'%'"
   ]
  },
  {
   "cell_type": "markdown",
   "metadata": {},
   "source": [
    "On peux supposer que certaines classes sont plus facilement identifiables car ils ont des couleurs spécifiques (comme les avions, les grenouilles).\n",
    "Contrairement aux autres qui peuvent avoir des couleurs plus diversifiées. \n",
    "\n",
    "D'où la différence de réussite avec cette méthode."
   ]
  },
  {
   "cell_type": "markdown",
   "metadata": {},
   "source": [
    "# Methode naïve (k-means)"
   ]
  },
  {
   "cell_type": "code",
   "execution_count": null,
   "metadata": {
    "collapsed": true
   },
   "outputs": [],
   "source": []
  }
 ],
 "metadata": {
  "kernelspec": {
   "display_name": "Python 2",
   "language": "python",
   "name": "python2"
  },
  "language_info": {
   "codemirror_mode": {
    "name": "ipython",
    "version": 2
   },
   "file_extension": ".py",
   "mimetype": "text/x-python",
   "name": "python",
   "nbconvert_exporter": "python",
   "pygments_lexer": "ipython2",
   "version": "2.7.12"
  }
 },
 "nbformat": 4,
 "nbformat_minor": 1
}
